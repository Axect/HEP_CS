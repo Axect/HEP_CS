{
 "cells": [
  {
   "cell_type": "markdown",
   "metadata": {},
   "source": [
    "<h1 style=\"text-align:center\"> <font color=\"hotpink\"> Python </font></h1>  \n",
    "<p style=\"text-align:right\"><font color=\"pink\"> talked by Yeji </font> </p>\n",
    "*****"
   ]
  },
  {
   "cell_type": "markdown",
   "metadata": {},
   "source": [
    "<img src=\"http://blog.techrocket.com/wp-content/uploads/2016/04/vanrossum.jpg\" width=500>\n",
    "<p style=\"text-align:center\"><b> Guido van Rossum </b></p>"
   ]
  },
  {
   "cell_type": "markdown",
   "metadata": {},
   "source": [
    "<img src=\"https://images-na.ssl-images-amazon.com/images/I/51HrlSsUrwL.jpg\" width=180 >\n",
    "<p style=\"text-align:center\"><b> Monti python's flying circus </b></p>"
   ]
  },
  {
   "cell_type": "markdown",
   "metadata": {},
   "source": [
    "## ● What's the Python"
   ]
  },
  {
   "cell_type": "markdown",
   "metadata": {},
   "source": [
    "<img src=\"https://imgs.xkcd.com/comics/python.png\">"
   ]
  },
  {
   "cell_type": "code",
   "execution_count": 1,
   "metadata": {
    "collapsed": true
   },
   "outputs": [],
   "source": [
    "import antigravity"
   ]
  },
  {
   "cell_type": "markdown",
   "metadata": {},
   "source": [
    "### \"Hello, world!\" "
   ]
  },
  {
   "cell_type": "markdown",
   "metadata": {
    "collapsed": true
   },
   "source": [
    ">```Python\n",
    ">print(\"hello, world!\")\n",
    ">```"
   ]
  },
  {
   "cell_type": "markdown",
   "metadata": {},
   "source": [
    "*****"
   ]
  },
  {
   "cell_type": "markdown",
   "metadata": {},
   "source": [
    "### 1. Properties of Python"
   ]
  },
  {
   "cell_type": "markdown",
   "metadata": {},
   "source": [
    "<font color=\"brown\"> 1) Python's advantage </font>"
   ]
  },
  {
   "cell_type": "markdown",
   "metadata": {},
   "source": [
    "** - Zen of Python **\n",
    "\n",
    ">```Python\n",
    "> import this\n",
    ">```\n",
    "\n",
    ">Beautiful is better than ugly. 아름다움이 추한 것보다 낫다.\n",
    ">\n",
    "Explicit is better than implicit. 명확함이 함축된 것보다 낫다.\n",
    ">\n",
    "Simple is better than complex. 단순함이 복잡한 것보다 낫다.\n",
    ">\n",
    "Complex is better than complicated. 복잡함이 난해한 것보다 낫다.\n",
    ">\n",
    "Flat is better than nested. 단조로움이 중접된 것보다 낫다.\n",
    ">\n",
    "Sparse is better than dense. 여유로움이 밀집된 것보다 낫다.\n",
    ">\n",
    "Readability counts. 가독성은 중요하다.\n",
    ">\n",
    "$ \\vdots $"
   ]
  },
  {
   "cell_type": "code",
   "execution_count": 2,
   "metadata": {
    "collapsed": false
   },
   "outputs": [
    {
     "name": "stdout",
     "output_type": "stream",
     "text": [
      "The Zen of Python, by Tim Peters\n",
      "\n",
      "Beautiful is better than ugly.\n",
      "Explicit is better than implicit.\n",
      "Simple is better than complex.\n",
      "Complex is better than complicated.\n",
      "Flat is better than nested.\n",
      "Sparse is better than dense.\n",
      "Readability counts.\n",
      "Special cases aren't special enough to break the rules.\n",
      "Although practicality beats purity.\n",
      "Errors should never pass silently.\n",
      "Unless explicitly silenced.\n",
      "In the face of ambiguity, refuse the temptation to guess.\n",
      "There should be one-- and preferably only one --obvious way to do it.\n",
      "Although that way may not be obvious at first unless you're Dutch.\n",
      "Now is better than never.\n",
      "Although never is often better than *right* now.\n",
      "If the implementation is hard to explain, it's a bad idea.\n",
      "If the implementation is easy to explain, it may be a good idea.\n",
      "Namespaces are one honking great idea -- let's do more of those!\n"
     ]
    }
   ],
   "source": [
    "import this"
   ]
  },
  {
   "cell_type": "markdown",
   "metadata": {},
   "source": [
    "**- Python은 인간다운 언어이다.  **  \n",
    ">\"만약 4가 1,2,3,4중에 있으면 \"4가 있습니다\"를 출력한다.\""
   ]
  },
  {
   "cell_type": "code",
   "execution_count": 3,
   "metadata": {
    "collapsed": false
   },
   "outputs": [
    {
     "name": "stdout",
     "output_type": "stream",
     "text": [
      "4가 있습니다\n"
     ]
    }
   ],
   "source": [
    "if 4 in [1,2,3,4]:\n",
    "    print(\"4가 있습니다\")"
   ]
  },
  {
   "cell_type": "markdown",
   "metadata": {},
   "source": [
    "** - Python은 문법이 쉬워 빠르게 배울 수 있다. **\n",
    "> 파이썬은 문법 자체가 아주 쉽고 간결하며 사람의 사고 체계와 매우 닮아 있다. 배우기 쉬운 언어, 활용하기 쉬운 언어가 가장 좋은 언어가 아닐까? 유명한 프로그래머인 에릭 레이먼드(Eric Raymond)는 파이썬을 공부한 지 단 하루 만에 자신이 원하는 프로그램을 작성할 수 있었다고 한다."
   ]
  },
  {
   "cell_type": "markdown",
   "metadata": {},
   "source": [
    "** - Python은 간결하다. **\n",
    "> 문법이 간결해서 다른사람이 짜놓은 소스코드를 해석하기가 가장 쉽다."
   ]
  },
  {
   "cell_type": "markdown",
   "metadata": {},
   "source": [
    "** - Python은 개발 속도가 빠르다. **\n",
    "> \"Life is too short, You need python.\" (인생은 너무 짧으니 파이썬이 필요해.)"
   ]
  },
  {
   "cell_type": "markdown",
   "metadata": {},
   "source": [
    "** - Python은 무료이지만 강력하다. **\n",
    "><b>오픈 소스</b>인 파이썬은 당연히 <b>무료</b>이다. 사용료 걱정없이 언제 어디서든 파이썬을 다운로드하여 사용할 수 있다.\n",
    ">\n",
    ">또한 프로그래머는 만들고자 하는 프로그램의 대부분을 파이썬으로 만들 수 있다. 물론 시스템 프로그래밍이나 하드웨어 제어와 같은 매우 복잡하고 반복 연산이 많은 프로그램은 파이썬과 어울리지 않는다. 하지만 파이썬은 이러한 약점을 극복할 수 있게끔 <b>다른 언어로 만든 프로그램을 파이썬 프로그램에 포함시킬 수 있다.</b>\n",
    ">\n",
    "><b>파이썬과 C는 찰떡궁합</b>이란 말이 있다. 즉, 프로그램의 전반적인 뼈대는 파이썬으로 만들고, 빠른 실행 속도를 필요로 하는 부분은 C로 만들어서 파이썬 프로그램 안에 포함시키는 것이다(정말 놀라우리만치 영악한 언어가 아닌가). 사실 파이썬 라이브러리들 중에는 순수 파이썬만으로 제작된 것도 많지만 C로 만들어진 것도 많다. C로 만들어진 것들은 대부분 속도가 빠르다."
   ]
  },
  {
   "cell_type": "markdown",
   "metadata": {},
   "source": [
    "$$ \\mathcal{L} = \\frac{1}{2} \\partial_{\\mu} \\phi \\partial^{\\mu} \\phi - \\frac{1}{2}m^2\\phi^2 $$ <p style=\"text-align:right\"><font color=\"blue\"> Jupyter에서 LaTex 또한 사용가능! </font></p>"
   ]
  },
  {
   "cell_type": "markdown",
   "metadata": {},
   "source": [
    "<font color=\"silver\"> 2) Python's disadvantage </font>"
   ]
  },
  {
   "cell_type": "markdown",
   "metadata": {},
   "source": [
    "** - interpreter 기반으로 상대적 느린 속도. **\n",
    "> Python은 interpreter 언어라 JAVA나 C++같은 컴파일 언어보다 느리다. 따라서 매우 짧은 응답시간을 필요로 하는 경우에는 C++같은 컴파일 언어로 개발을 하는 것이 좋다."
   ]
  },
  {
   "cell_type": "markdown",
   "metadata": {},
   "source": [
    "** - 동시다발적인 멀티스레드를 처리하기에 부적합하다. **\n",
    "> Python은 동시다발적인 멀티스레드를 처리하거나 CPU에 집중된 많은 스레드를 처리하는 데 적합한 언어는 아니다. 이는 GIL(Global Interpreter Lock) 때문인데, 이 메커니즘은 인터프리터가 한 번에 하나의 바이트 코드명령만 실행하도록 하는 것을 말한다.  "
   ]
  },
  {
   "cell_type": "markdown",
   "metadata": {},
   "source": [
    "### 2. Invitation"
   ]
  },
  {
   "cell_type": "markdown",
   "metadata": {},
   "source": [
    " > * 이왕이면 간결하고 아름답게!  \n",
    " > * 이왕이면 온라인에 공개된 한글자료가 많은 것으로!  \n",
    " > * 이왕이면 첫 입문이 쉬운 것으로!  \n",
    " > * 이왕이면 확장성이 뛰어난 것으로!   "
   ]
  },
  {
   "cell_type": "markdown",
   "metadata": {},
   "source": [
    "### 3. Reference "
   ]
  },
  {
   "cell_type": "markdown",
   "metadata": {},
   "source": [
    "> * Python 3.4 공부 좀 해볼까?\n",
    "> * Python을 이용한 시스템 트레이닝\n",
    "> * 점프 투 파이썬\n",
    "> * 위키피디아 : 파이썬\n",
    "> * Pycharm\n",
    "> * TIOBE"
   ]
  },
  {
   "cell_type": "markdown",
   "metadata": {},
   "source": [
    "<h1 style=\"text-align:center\"><font color=\"sapphire\"><i> \"Life is too short, You need python.\" </font></i></h1>"
   ]
  }
 ],
 "metadata": {
  "kernelspec": {
   "display_name": "Python 3",
   "language": "python",
   "name": "python3"
  },
  "language_info": {
   "codemirror_mode": {
    "name": "ipython",
    "version": 3
   },
   "file_extension": ".py",
   "mimetype": "text/x-python",
   "name": "python",
   "nbconvert_exporter": "python",
   "pygments_lexer": "ipython3",
   "version": "3.6.0"
  }
 },
 "nbformat": 4,
 "nbformat_minor": 2
}
